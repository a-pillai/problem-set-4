{
 "cells": [
  {
   "cell_type": "markdown",
   "metadata": {},
   "source": [
    "# Interact with PubMed API"
   ]
  },
  {
   "cell_type": "markdown",
   "metadata": {},
   "source": [
    "This script can be used to interact with PubMed (a free funn-text archive of biomedical and life sciences journal literature) API, and retrieve interested information based on keyword searching.\n",
    "The documantation of PubMed API is here: https://www.ncbi.nlm.nih.gov/books/NBK25500/"
   ]
  },
  {
   "cell_type": "code",
   "execution_count": 82,
   "metadata": {},
   "outputs": [
    {
     "name": "stdout",
     "output_type": "stream",
     "text": [
      "1154 \"coronavirus\"-related records were found in 2018.\n",
      "17469 \"coronavirus\"-related records were found in 2019.\n",
      "47544 \"coronavirus\"-related records were found in 2020.\n"
     ]
    },
    {
     "data": {
      "text/plain": [
       "<BarContainer object of 3 artists>"
      ]
     },
     "execution_count": 82,
     "metadata": {},
     "output_type": "execute_result"
    },
    {
     "data": {
      "image/png": "[encoded data removed]",
      "text/plain": [
       "<Figure size 432x288 with 1 Axes>"
      ]
     },
     "metadata": {
      "needs_background": "light"
     },
     "output_type": "display_data"
    }
   ],
   "source": [
    "#This block search for publications\n",
    "#esearch.fcgi?db=<database>&term=<query>\n",
    "#In this perticular example, it searches for the records about \"coronavirus\" since 2018, and plot a bar graph.\n",
    "\n",
    "import urllib.request, urllib.parse, urllib.error\n",
    "import xml.etree.ElementTree as ET \n",
    "import matplotlib.pyplot as plt\n",
    "import numpy as np\n",
    "\n",
    "hist=dict()\n",
    "for time in ('2018', '2019', '2020'):\n",
    "    SearchURL = 'https://eutils.ncbi.nlm.nih.gov/entrez/eutils/esearch.fcgi?db=pubmed&term=coronavirus+AND+'+time+'&retmode=json'\n",
    "    fhand=urllib.request.urlopen(SearchURL)\n",
    "    SearchList=json.load(fhand)\n",
    "    records=SearchList[\"esearchresult\"][\"count\"]\n",
    "    hist[time]=int(records)\n",
    "    print(f\"{records} \\\"coronavirus\\\"-related records were found in {time}.\")\n",
    "plt.bar(list(hist.keys()), hist.values(), color=\"g\")\n"
   ]
  },
  {
   "cell_type": "code",
   "execution_count": null,
   "metadata": {},
   "outputs": [],
   "source": []
  }
 ],
 "metadata": {
  "kernelspec": {
   "display_name": "Python 3.8 (basic)",
   "language": "python",
   "name": "python3"
  },
  "language_info": {
   "codemirror_mode": {
    "name": "ipython",
    "version": 3
   },
   "file_extension": ".py",
   "mimetype": "text/x-python",
   "name": "python",
   "nbconvert_exporter": "python",
   "pygments_lexer": "ipython3",
   "version": "3.8.1"
  }
 },
 "nbformat": 4,
 "nbformat_minor": 4
}
