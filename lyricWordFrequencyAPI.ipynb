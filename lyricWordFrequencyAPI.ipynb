{
 "cells": [
  {
   "cell_type": "code",
   "execution_count": null,
   "metadata": {
    "ExecuteTime": {
     "start_time": "2020-10-29T20:24:55.407Z"
    }
   },
   "outputs": [],
   "source": [
    "import requests\n",
    "\n",
    "while True:\n",
    "    # Ask user for song name and cooresponding artist to retrieve lyrics for designated song\n",
    "    # A blank response exits the program\n",
    "    print(\"\")\n",
    "    songName = input(\"Press enter to the cancel search\\nEnter the name of a song you would like the lyrics for: \")\n",
    "    if len(songName) < 1:\n",
    "        break\n",
    "    artistName = input(\"Enter the name of the song's artist: \")\n",
    "    print(\"\\n\\n\")\n",
    "    \n",
    "    # Format url\n",
    "    url = \"https://api.lyrics.ovh/v1/{}/{}\".format(artistName, songName)\n",
    "\n",
    "    # Pull text data from lyrics API and slice it to remove unnecessary text\n",
    "    # Print error message if result contains no text\n",
    "    request = requests.get(url)\n",
    "    lyricsRaw = request.text\n",
    "    lyricsRaw = lyricsRaw[11:-2]\n",
    "    if len(lyricsRaw) < 1:\n",
    "        print(\"Error in retrieving lyrics\")\n",
    "        break\n",
    "\n",
    "    # Loop removes new line syntax embedded in the lyrics text\n",
    "    continueTwice = False\n",
    "    lyricsProcessed = \"\"\n",
    "    for i in range(len(lyricsRaw)-1):\n",
    "        #Enables the loop to skip both \\ and the character following it\n",
    "        if continueTwice:\n",
    "            continueTwice = False\n",
    "            continue\n",
    "\n",
    "        if lyricsRaw[i] == \"\\\\\":\n",
    "            lyricsProcessed = lyricsProcessed + \" \"\n",
    "            continueTwice = True\n",
    "            continue\n",
    "        else:\n",
    "            lyricsProcessed = lyricsProcessed + lyricsRaw[i]\n",
    "\n",
    "    # Split paragraph of text into array of lower case words for easier handling\n",
    "    lyricsProcessed = lyricsProcessed.lower()\n",
    "    lyricsProcessed = lyricsProcessed.split()\n",
    "    uniqueWords = []\n",
    "    uniqueWordFrequency = []\n",
    "    \n",
    "    # If new word is unique add it to the list and increase its frequency to 1\n",
    "    # If new word isn't unique find its location in the list and increase its frequency by 1\n",
    "    for word in lyricsProcessed:\n",
    "        if word not in uniqueWords:\n",
    "            uniqueWords.append(word)\n",
    "            uniqueWordFrequency.append(1)\n",
    "        else:\n",
    "            uniqueWordFrequency[uniqueWords.index(word)] = uniqueWordFrequency[uniqueWords.index(word)] + 1\n",
    "    \n",
    "    # Print words with cooresponding frequency\n",
    "    print(Word : Number of times it appears)\n",
    "    for i in range(len(uniqueWords)):\n",
    "        print(\"{} : {}\".format(uniqueWords[i], uniqueWordFrequency[i]))"
   ]
  },
  {
   "cell_type": "code",
   "execution_count": null,
   "metadata": {
    "ExecuteTime": {
     "end_time": "2020-10-28T01:34:25.492092Z",
     "start_time": "2020-10-28T01:34:25.480124Z"
    }
   },
   "outputs": [],
   "source": []
  },
  {
   "cell_type": "code",
   "execution_count": null,
   "metadata": {},
   "outputs": [],
   "source": []
  }
 ],
 "metadata": {
  "kernelspec": {
   "display_name": "Python 3",
   "language": "python",
   "name": "python3"
  },
  "language_info": {
   "codemirror_mode": {
    "name": "ipython",
    "version": 3
   },
   "file_extension": ".py",
   "mimetype": "text/x-python",
   "name": "python",
   "nbconvert_exporter": "python",
   "pygments_lexer": "ipython3",
   "version": "3.7.3"
  }
 },
 "nbformat": 4,
 "nbformat_minor": 2
}
